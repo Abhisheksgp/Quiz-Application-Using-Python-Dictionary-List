{
 "cells": [
  {
   "cell_type": "code",
   "execution_count": 65,
   "id": "d0c59301",
   "metadata": {},
   "outputs": [],
   "source": [
    "questions = (\"Who is the Prime Minister Of India?: \",\n",
    "                       \"Which animal lays the largest eggs?: \",\n",
    "                       \"What is the most abundant gas in Earth's atmosphere?: \",\n",
    "                       \"How many bones are in the human body?: \",\n",
    "                       \"Up Ram Mandir Prana Prathisthapana Date?: \")\n",
    "\n"
   ]
  },
  {
   "cell_type": "code",
   "execution_count": 66,
   "id": "04155cc9",
   "metadata": {},
   "outputs": [],
   "source": [
    "feedback = (\"How Was your Experience Give a Value Feedback\")\n",
    "            "
   ]
  },
  {
   "cell_type": "code",
   "execution_count": 67,
   "id": "d32f6023",
   "metadata": {},
   "outputs": [],
   "source": [
    "options_1= (\"A.Excellent\", \"B.Good\",\" C.Minute Mistake\", \"D.Bad\")\n",
    "\n"
   ]
  },
  {
   "cell_type": "code",
   "execution_count": 69,
   "id": "806c4b84",
   "metadata": {},
   "outputs": [],
   "source": [
    "options = ((\"A. Modi\", \"B. Rahul Gandhi\", \"C.Atal Bihari Vajpayee \", \"D.Chandrashekhar\"),\n",
    "                   (\"A. Whale\", \"B. Crocodile\", \"C. Elephant\", \"D. Ostrich\"),\n",
    "                   (\"A. Nitrogen\", \"B. Oxygen\", \"C. Carbon-Dioxide\", \"D. Hydrogen\"),\n",
    "                   (\"A. 206\", \"B. 207\", \"C. 208\", \"D. 209\"),\n",
    "                   (\"A.20th Dec 2023\",\"B.21 Dec 2023\", \"C.22nd jan 2024\",\"D.21rst jan 2024\"))"
   ]
  },
  {
   "cell_type": "code",
   "execution_count": 70,
   "id": "833ed076",
   "metadata": {},
   "outputs": [],
   "source": [
    "answers = (\"A\", \"D\", \"A\", \"A\", \"C\")\n",
    "guesses = []\n",
    "score = 0\n",
    "question_num = 0\n",
    "Feedback_no = 0\n",
    "Feedback_answer = (\"A\",\"B\",\"C\",\"D\")\n",
    "guesses_1=[]\n"
   ]
  },
  {
   "cell_type": "code",
   "execution_count": 71,
   "id": "bf261a40",
   "metadata": {},
   "outputs": [
    {
     "name": "stdout",
     "output_type": "stream",
     "text": [
      "----------------------\n",
      "Who is the Prime Minister Of India?: \n",
      "A. Modi\n",
      "B. Rahul Gandhi\n",
      "C.Atal Bihari Vajpayee \n",
      "D.Chandrashekhar\n",
      "Enter (A, B, C, D): A\n",
      "CORRECT!\n",
      "----------------------\n",
      "Which animal lays the largest eggs?: \n",
      "A. Whale\n",
      "B. Crocodile\n",
      "C. Elephant\n",
      "D. Ostrich\n",
      "Enter (A, B, C, D): d\n",
      "CORRECT!\n",
      "----------------------\n",
      "What is the most abundant gas in Earth's atmosphere?: \n",
      "A. Nitrogen\n",
      "B. Oxygen\n",
      "C. Carbon-Dioxide\n",
      "D. Hydrogen\n",
      "Enter (A, B, C, D): a\n",
      "CORRECT!\n",
      "----------------------\n",
      "How many bones are in the human body?: \n",
      "A. 206\n",
      "B. 207\n",
      "C. 208\n",
      "D. 209\n",
      "Enter (A, B, C, D): a\n",
      "CORRECT!\n",
      "----------------------\n",
      "Up Ram Mandir Prana Prathisthapana Date?: \n",
      "A.20th Dec 2023\n",
      "B.21 Dec 2023\n",
      "C.22nd jan 2024\n",
      "D.21rst jan 2024\n",
      "Enter (A, B, C, D): c\n",
      "CORRECT!\n",
      "----------------------\n",
      "       RESULTS        \n",
      "----------------------\n",
      "answers: A D A A C \n",
      "guesses: A D A A C \n",
      "Your score is: 100%\n",
      "----------------------\n",
      "     Feedback         \n",
      "----------------------\n",
      "----------------------\n",
      "How Was your Experience Give a Value Feedback\n",
      "('A.Excellent', 'B.Good', ' C.Minute Mistake', 'D.Bad')\n",
      "('A.Excellent', 'B.Good', ' C.Minute Mistake', 'D.Bad')\n",
      "('A.Excellent', 'B.Good', ' C.Minute Mistake', 'D.Bad')\n",
      "('A.Excellent', 'B.Good', ' C.Minute Mistake', 'D.Bad')\n",
      "('A.Excellent', 'B.Good', ' C.Minute Mistake', 'D.Bad')\n",
      "('A.Excellent', 'B.Good', ' C.Minute Mistake', 'D.Bad')\n",
      "('A.Excellent', 'B.Good', ' C.Minute Mistake', 'D.Bad')\n",
      "('A.Excellent', 'B.Good', ' C.Minute Mistake', 'D.Bad')\n",
      "('A.Excellent', 'B.Good', ' C.Minute Mistake', 'D.Bad')\n",
      "('A.Excellent', 'B.Good', ' C.Minute Mistake', 'D.Bad')\n",
      "('A.Excellent', 'B.Good', ' C.Minute Mistake', 'D.Bad')\n",
      "Enter (A, B, C, D): A\n",
      "Thank You For Your Feedback!\n",
      "----------------------\n",
      "How Was your Experience Give a Value Feedback\n"
     ]
    },
    {
     "ename": "TypeError",
     "evalue": "tuple indices must be integers or slices, not str",
     "output_type": "error",
     "traceback": [
      "\u001b[1;31m---------------------------------------------------------------------------\u001b[0m",
      "\u001b[1;31mTypeError\u001b[0m                                 Traceback (most recent call last)",
      "Cell \u001b[1;32mIn[71], line 41\u001b[0m\n\u001b[0;32m     39\u001b[0m \u001b[38;5;28mprint\u001b[39m(\u001b[38;5;124m\"\u001b[39m\u001b[38;5;124m----------------------\u001b[39m\u001b[38;5;124m\"\u001b[39m)\n\u001b[0;32m     40\u001b[0m \u001b[38;5;28mprint\u001b[39m(feedback)\n\u001b[1;32m---> 41\u001b[0m \u001b[38;5;28;01mfor\u001b[39;00m option \u001b[38;5;129;01min\u001b[39;00m options_1 [Feedback_no]:\n\u001b[0;32m     42\u001b[0m     \u001b[38;5;28mprint\u001b[39m(options_1)\n\u001b[0;32m     44\u001b[0m guess \u001b[38;5;241m=\u001b[39m \u001b[38;5;28minput\u001b[39m(\u001b[38;5;124m\"\u001b[39m\u001b[38;5;124mEnter (A, B, C, D): \u001b[39m\u001b[38;5;124m\"\u001b[39m)\u001b[38;5;241m.\u001b[39mupper()\n",
      "\u001b[1;31mTypeError\u001b[0m: tuple indices must be integers or slices, not str"
     ]
    }
   ],
   "source": [
    "for question in questions:\n",
    "    print(\"----------------------\")\n",
    "    print(question)\n",
    "    for option in options[question_num]:\n",
    "        print(option)\n",
    "        \n",
    "    guess = input(\"Enter (A, B, C, D): \").upper()\n",
    "    guesses.append(guess)\n",
    "    if guess == answers[question_num]:\n",
    "        score += 1\n",
    "        print(\"CORRECT!\")\n",
    "    else:\n",
    "        print(\"INCORRECT!\")\n",
    "        print(f\"{answers[question_num]} is the correct answer\")\n",
    "    question_num += 1\n",
    "\n",
    "print(\"----------------------\")\n",
    "print(\"       RESULTS        \")\n",
    "print(\"----------------------\")\n",
    "\n",
    "print(\"answers: \", end=\"\")\n",
    "for answer in answers:\n",
    "    print(answer, end=\" \")\n",
    "print()\n",
    "\n",
    "print(\"guesses: \", end=\"\")\n",
    "for guess in guesses:\n",
    "    print(guess, end=\" \")\n",
    "print()\n",
    "\n",
    "score = int(score / len(questions) * 100)\n",
    "print(f\"Your score is: {score}%\")\n",
    "\n",
    "print(\"----------------------\")\n",
    "print(\"     Feedback         \")\n",
    "print(\"----------------------\")\n",
    "\n",
    "for feedbacks in feedback:\n",
    "    print(\"----------------------\")\n",
    "    print(feedback)\n",
    "    for option in options_1 [Feedback_no]:\n",
    "        print(options_1)\n",
    "    \n",
    "    guess = input(\"Enter (A, B, C, D): \").upper()\n",
    "    guesses_1.append(guess)\n",
    "    if guess == Feedback_answer[Feedback_no]:\n",
    "    \n",
    "        print(\"Thank You For Your Feedback!\")\n",
    "    else:\n",
    "        print(f\"{Feedback_answer[Feedback_no]} Thank You For Your Feedback!\")\n",
    "    \n",
    "    Feedback_no =feedback"
   ]
  },
  {
   "cell_type": "code",
   "execution_count": null,
   "id": "18c87da2",
   "metadata": {},
   "outputs": [],
   "source": []
  },
  {
   "cell_type": "code",
   "execution_count": null,
   "id": "fd8f017b",
   "metadata": {},
   "outputs": [],
   "source": []
  }
 ],
 "metadata": {
  "kernelspec": {
   "display_name": "Python 3 (ipykernel)",
   "language": "python",
   "name": "python3"
  },
  "language_info": {
   "codemirror_mode": {
    "name": "ipython",
    "version": 3
   },
   "file_extension": ".py",
   "mimetype": "text/x-python",
   "name": "python",
   "nbconvert_exporter": "python",
   "pygments_lexer": "ipython3",
   "version": "3.11.5"
  }
 },
 "nbformat": 4,
 "nbformat_minor": 5
}
